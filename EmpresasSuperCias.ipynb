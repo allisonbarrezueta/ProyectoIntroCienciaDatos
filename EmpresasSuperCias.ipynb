{
 "cells": [
  {
   "cell_type": "code",
   "execution_count": 118,
   "metadata": {},
   "outputs": [
    {
     "name": "stdout",
     "output_type": "stream",
     "text": [
      "1     SUMINISTROS MEDICOS MANOSALVAS VILLAGOMEZ MV A...\n",
      "2         MILENIO LIMPIEZA Y MANTENIMIENTO S.A. MILIMAN\n",
      "3                      CHICAIZA ALVARADO PEDRO GIOVANNY\n",
      "4                                   CONSORCIO CASUARINA\n",
      "5                                          SALUMED S.A.\n",
      "6                         CONSORCIO CEMENTERIO SUBURBIO\n",
      "7       COMERCIALIZADORA NUTRI MED NUTRIMEDECUADOR S.A.\n",
      "8                                        ARKITRUST S.A.\n",
      "9                                    ROCHE ECUADOR S.A.\n",
      "10            CAMPOSANTOS DEL ECUADOR S.A. CAMPOECUADOR\n",
      "Name: Proveedor, dtype: object\n",
      "https://appscvsmovil.supercias.gob.ec/PortalInfor/consultaPrincipal.zul\n",
      "[['1713581740', 'ARIAS VINUEZA NORY TATIANA', 'ECUADOR', 'NACIONAL', '200.0000', 'N', 'SUMINISTROS MEDICOS MANOSALVAS VILLAGOMEZ MV ASOCIADOS CIA. LTDA.'], ['1703282234', 'MANOSALVAS ORTIZ POLIVIO ELICIO', 'ECUADOR', 'NACIONAL', '4,900.0000', 'N', 'SUMINISTROS MEDICOS MANOSALVAS VILLAGOMEZ MV ASOCIADOS CIA. LTDA.'], ['1704993532', 'VILLAGOMEZ URRESTA ROSA AURELIA', 'ECUADOR', 'NACIONAL', '4,900.0000', 'N', 'SUMINISTROS MEDICOS MANOSALVAS VILLAGOMEZ MV ASOCIADOS CIA. LTDA.']]\n",
      "https://appscvsmovil.supercias.gob.ec/PortalInfor/consultaPrincipal.zul\n",
      "[['0914184262', 'MONTALVO ARIAS IVETTE', 'ECUADOR', 'NACIONAL', '500.0000', 'N', 'MILENIO LIMPIEZA Y MANTENIMIENTO S.A. MILIMAN'], ['0903825230', 'MONTALVO MALO JUAN BYRON', 'ECUADOR', 'NACIONAL', '500.0000', 'N', 'MILENIO LIMPIEZA Y MANTENIMIENTO S.A. MILIMAN'], ['0903199081', 'MONTALVO MALO MIGUEL ANGEL ENRIQUE', 'ECUADOR', 'NACIONAL', '9,000.0000', 'N', 'MILENIO LIMPIEZA Y MANTENIMIENTO S.A. MILIMAN']]\n",
      "https://appscvsmovil.supercias.gob.ec/PortalInfor/consultaPrincipal.zul\n",
      "Proveedor CHICAIZA ALVARADO PEDRO GIOVANNY fallido\n",
      "https://appscvsmovil.supercias.gob.ec/PortalInfor/consultaPrincipal.zul\n",
      "Proveedor CONSORCIO CASUARINA fallido\n",
      "https://appscvsmovil.supercias.gob.ec/PortalInfor/consultaPrincipal.zul\n",
      "[['1705858999', 'AYALA GUERRERO GUADALUPE BERNARDINA', 'ECUADOR', 'NACIONAL', '320.0000', 'N', 'SALUMED S.A.'], ['1715064513', 'VINELLI AYALA JUAN ALEJANDRO', 'ECUADOR', 'NACIONAL', '480.0000', 'N', 'SALUMED S.A.']]\n",
      "https://appscvsmovil.supercias.gob.ec/PortalInfor/consultaPrincipal.zul\n",
      "Proveedor CONSORCIO CEMENTERIO SUBURBIO fallido\n",
      "https://appscvsmovil.supercias.gob.ec/PortalInfor/consultaPrincipal.zul\n",
      "[['G14846780', 'LAY HERRERA ERNESTO RAPHAEL', 'MEXICO', 'EXT. DIRECTA', '250,375.0000', 'N', 'COMERCIALIZADORA NUTRI MED NUTRIMEDECUADOR S.A.'], ['0993118168001', 'VPPA HOLDING S.A.', 'ECUADOR', 'NACIONAL', '250,375.0000', 'N', 'COMERCIALIZADORA NUTRI MED NUTRIMEDECUADOR S.A.'], ['', '', '', '', '', '', 'COMERCIALIZADORA NUTRI MED NUTRIMEDECUADOR S.A.'], ['', '', '', '', '', '', 'COMERCIALIZADORA NUTRI MED NUTRIMEDECUADOR S.A.']]\n",
      "https://appscvsmovil.supercias.gob.ec/PortalInfor/consultaPrincipal.zul\n",
      "[['0917363657', 'DALLA VALLE BREVI DIANA MARIA', 'ECUADOR', 'NACIONAL', '40.0000', 'N', 'ARKITRUST S.A.'], ['0910309012', 'SAMANIEGO PORTILLA JOSE RAFAEL', 'ECUADOR', 'NACIONAL', '119,960.0000', 'N', 'ARKITRUST S.A.']]\n",
      "https://appscvsmovil.supercias.gob.ec/PortalInfor/consultaPrincipal.zul\n",
      "[['SE-Q-00000398', 'ROCHE FINANCE LTD', 'SUIZA', 'EXT. DIRECTA', '22,477,803.0400', 'N', 'ROCHE ECUADOR S.A.'], ['SE-Q-00001073', 'ROCHE PHARMHOLDING B.V.', 'HOLANDA', 'EXT. DIRECTA', '5,619,450.8000', 'N', 'ROCHE ECUADOR S.A.']]\n",
      "https://appscvsmovil.supercias.gob.ec/PortalInfor/consultaPrincipal.zul\n",
      "Proveedor CAMPOSANTOS DEL ECUADOR S.A. CAMPOECUADOR fallido\n",
      "tiempo final: 87.61628103256226\n"
     ]
    }
   ],
   "source": [
    "import pandas as pd\n",
    "from selenium import webdriver\n",
    "from selenium.webdriver.support.ui import Select\n",
    "from selenium.webdriver.common.by import By\n",
    "from selenium.webdriver.chrome.options import Options\n",
    "from time import sleep\n",
    "from selenium.webdriver.support.ui import WebDriverWait\n",
    "from selenium.webdriver.support import expected_conditions as EC\n",
    "import time\n",
    "\n",
    "DF_LEN = 6\n",
    "\n",
    "def get_table_with_links(driver):\n",
    "    tiempo_inicial = time.time()\n",
    "      # Abrir una nueva instancia del browser\n",
    "    lista_proveedores_completos = pd.read_csv('contrataciones_por_proveedor.csv',delimiter=';', usecols = [0])\n",
    "    proveedores = lista_proveedores_completos[\"Proveedor\"].unique()\n",
    "    print(proveedores)\n",
    "    url = 'https://appscvsmovil.supercias.gob.ec/PortalInfor/consultaPrincipal.zul'\n",
    "    driver.get(url)\n",
    "    \n",
    "    for proveedor in proveedores:\n",
    "        \n",
    "        print(url)\n",
    "        \n",
    "        try:\n",
    "            WebDriverWait(driver, 5).until(EC.element_to_be_clickable((By.XPATH, '//span[@class=\"z-radio\"][3]/input'))).click()\n",
    "            driver.find_element_by_xpath('//span[@class=\"z-radio\"][3]/input').click() #click radio nombre\n",
    "            WebDriverWait(driver, 5).until(EC.element_to_be_clickable((By.XPATH, '//*[@class=\"z-combobox-inp z-combobox-right-edge\"]')))\n",
    "            search_box = driver.find_element_by_xpath('//*[@class=\"z-combobox-inp z-combobox-right-edge\"]')\n",
    "            #search_box.click()\n",
    "            #search_box.send_keys('tax')\n",
    "            WebDriverWait(driver, 5).until(EC.element_to_be_clickable((By.XPATH, '//*[@class=\"z-combobox-inp z-combobox-right-edge\"]'\n",
    "        ))).send_keys(proveedor)\n",
    "            sleep(1)\n",
    "            WebDriverWait(driver, 3).until(EC.element_to_be_clickable((By.XPATH, '//td[@class=\"z-button-cm\"]'))).click()\n",
    "            WebDriverWait(driver, 5).until(lambda driver: driver.current_url != url)\n",
    "\n",
    "            WebDriverWait(driver, 5).until(EC.element_to_be_clickable((By.XPATH, '//a[7]'))).click()\n",
    "        \n",
    "            accionistas = []\n",
    "            WebDriverWait(driver, 10).until(EC.element_to_be_clickable((By.XPATH, '//*[@class=\"z-treerow\"]')))\n",
    "            df = pd.DataFrame(columns=['identificacion', 'nombre', 'nacionalidad', 'tipo_inversion', 'capital', 'restriccion', 'nombre_proveedor'])\n",
    "            for i in driver.find_elements_by_xpath('//*[contains(@class, \"z-treerow\")]'):\n",
    "                accionista = []\n",
    "\n",
    "                for index,j in enumerate(i.find_elements_by_xpath('td')):\n",
    "                    if index>0: #para no obtener el numero de accionista.\n",
    "                        try:\n",
    "                            accionista.append(j.text)\n",
    "                        except:\n",
    "                            accionista.append(\"\")\n",
    "\n",
    "                if len(accionista) == DF_LEN:\n",
    "                    accionista.append(proveedor)\n",
    "                    accionistas.append(accionista)\n",
    "                    df.loc[len(df)]=accionista\n",
    "        \n",
    "        except:\n",
    "            print(\"Proveedor {} fallido\".format(proveedor))\n",
    "            df = pd.DataFrame({'identificacion': \"\", 'nombre': \"\", 'nacionalidad': \"\", 'tipo_inversion': \"\", 'capital': \"\", 'restriccion': \"\", 'nombre_proveedor': proveedor}, index=[0])\n",
    "            df.to_csv(\"empresas.csv\", index=False, header=False, mode = 'a', sep=\";\")\n",
    "            driver.get(url)\n",
    "            continue\n",
    "\n",
    "        #submit_search = driver.find_element_by_xpath('//td[@class=\"z-button-cm\"]')\n",
    "        # //*[@class=\"z-treecell-cnt z-overflow-hidden\"]\n",
    "        print(accionistas)\n",
    "        df.to_csv(\"empresas.csv\", index=False, header=False, mode = 'a', sep=\";\")\n",
    "        try:\n",
    "            WebDriverWait(driver, 5).until(EC.element_to_be_clickable((By.XPATH, '//*[@class=\"z-window-modal-icon z-window-modal-close\"]'))).click()\n",
    "            WebDriverWait(driver, 5).until(EC.element_to_be_clickable((By.XPATH, '//*[@class=\"z-button-cm\"]'))).click()\n",
    "        except:\n",
    "            driver.get(url)\n",
    "            \n",
    "            \n",
    "    print(\"tiempo final:\", time.time()-tiempo_inicial)\n",
    " \n",
    "    driver.quit()\n",
    "    #print(df)\n",
    "    \n",
    " \n",
    "options = Options()\n",
    "#options.binary_location=r'C:\\Program Files (x86)\\Google\\Chrome\\Application\\chrome.exe'\n",
    "options.add_experimental_option('excludeSwitches', ['enable-logging'])\n",
    "#options.add_argument(\"--headless\")\n",
    "my_driver = webdriver.Chrome(options=options)\n",
    " \n",
    "get_table_with_links(my_driver)"
   ]
  },
  {
   "cell_type": "code",
   "execution_count": 98,
   "metadata": {},
   "outputs": [],
   "source": [
    "contrataciones = pd.read_csv('contrataciones_por_proveedor.csv',sep=';', skiprows=1000, chunksize=1000)"
   ]
  },
  {
   "cell_type": "code",
   "execution_count": 123,
   "metadata": {},
   "outputs": [
    {
     "data": {
      "text/plain": [
       "3591"
      ]
     },
     "execution_count": 123,
     "metadata": {},
     "output_type": "execute_result"
    }
   ],
   "source": [
    "lista_proveedores_completos = pd.read_csv('contrataciones_por_proveedor.csv',delimiter=';', usecols = [0])\n",
    "len(lista_proveedores_completos[\"Proveedor\"].unique())"
   ]
  },
  {
   "cell_type": "code",
   "execution_count": 108,
   "metadata": {},
   "outputs": [
    {
     "data": {
      "text/html": [
       "<div>\n",
       "<style scoped>\n",
       "    .dataframe tbody tr th:only-of-type {\n",
       "        vertical-align: middle;\n",
       "    }\n",
       "\n",
       "    .dataframe tbody tr th {\n",
       "        vertical-align: top;\n",
       "    }\n",
       "\n",
       "    .dataframe thead th {\n",
       "        text-align: right;\n",
       "    }\n",
       "</style>\n",
       "<table border=\"1\" class=\"dataframe\">\n",
       "  <thead>\n",
       "    <tr style=\"text-align: right;\">\n",
       "      <th></th>\n",
       "      <th>Proveedor</th>\n",
       "    </tr>\n",
       "  </thead>\n",
       "  <tbody>\n",
       "    <tr>\n",
       "      <td>0</td>\n",
       "      <td>MARTINEZ VELASQUEZ ISIDORO RICARDO</td>\n",
       "    </tr>\n",
       "    <tr>\n",
       "      <td>1</td>\n",
       "      <td>SUMINISTROS MEDICOS MANOSALVAS VILLAGOMEZ MV A...</td>\n",
       "    </tr>\n",
       "    <tr>\n",
       "      <td>2</td>\n",
       "      <td>MILENIO LIMPIEZA Y MANTENIMIENTO S.A. MILIMAN</td>\n",
       "    </tr>\n",
       "    <tr>\n",
       "      <td>3</td>\n",
       "      <td>CHICAIZA ALVARADO PEDRO GIOVANNY</td>\n",
       "    </tr>\n",
       "    <tr>\n",
       "      <td>4</td>\n",
       "      <td>CONSORCIO CASUARINA</td>\n",
       "    </tr>\n",
       "  </tbody>\n",
       "</table>\n",
       "</div>"
      ],
      "text/plain": [
       "                                           Proveedor\n",
       "0                 MARTINEZ VELASQUEZ ISIDORO RICARDO\n",
       "1  SUMINISTROS MEDICOS MANOSALVAS VILLAGOMEZ MV A...\n",
       "2      MILENIO LIMPIEZA Y MANTENIMIENTO S.A. MILIMAN\n",
       "3                   CHICAIZA ALVARADO PEDRO GIOVANNY\n",
       "4                                CONSORCIO CASUARINA"
      ]
     },
     "execution_count": 108,
     "metadata": {},
     "output_type": "execute_result"
    }
   ],
   "source": [
    "df = pd.read_csv('contrataciones_por_proveedor.csv',delimiter=';', usecols = [0])\n",
    "df.head()"
   ]
  },
  {
   "cell_type": "code",
   "execution_count": 119,
   "metadata": {},
   "outputs": [
    {
     "data": {
      "text/html": [
       "<div>\n",
       "<style scoped>\n",
       "    .dataframe tbody tr th:only-of-type {\n",
       "        vertical-align: middle;\n",
       "    }\n",
       "\n",
       "    .dataframe tbody tr th {\n",
       "        vertical-align: top;\n",
       "    }\n",
       "\n",
       "    .dataframe thead th {\n",
       "        text-align: right;\n",
       "    }\n",
       "</style>\n",
       "<table border=\"1\" class=\"dataframe\">\n",
       "  <thead>\n",
       "    <tr style=\"text-align: right;\">\n",
       "      <th></th>\n",
       "      <th>Proveedor</th>\n",
       "    </tr>\n",
       "  </thead>\n",
       "  <tbody>\n",
       "    <tr>\n",
       "      <td>count</td>\n",
       "      <td>19456</td>\n",
       "    </tr>\n",
       "    <tr>\n",
       "      <td>unique</td>\n",
       "      <td>3591</td>\n",
       "    </tr>\n",
       "    <tr>\n",
       "      <td>top</td>\n",
       "      <td>ESCANDON CARRION JOSE AUGUSTO</td>\n",
       "    </tr>\n",
       "    <tr>\n",
       "      <td>freq</td>\n",
       "      <td>153</td>\n",
       "    </tr>\n",
       "  </tbody>\n",
       "</table>\n",
       "</div>"
      ],
      "text/plain": [
       "                            Proveedor\n",
       "count                           19456\n",
       "unique                           3591\n",
       "top     ESCANDON CARRION JOSE AUGUSTO\n",
       "freq                              153"
      ]
     },
     "execution_count": 119,
     "metadata": {},
     "output_type": "execute_result"
    }
   ],
   "source": [
    "df.describe()"
   ]
  },
  {
   "cell_type": "code",
   "execution_count": null,
   "metadata": {},
   "outputs": [],
   "source": []
  }
 ],
 "metadata": {
  "kernelspec": {
   "display_name": "Python 3",
   "language": "python",
   "name": "python3"
  },
  "language_info": {
   "codemirror_mode": {
    "name": "ipython",
    "version": 3
   },
   "file_extension": ".py",
   "mimetype": "text/x-python",
   "name": "python",
   "nbconvert_exporter": "python",
   "pygments_lexer": "ipython3",
   "version": "3.7.4"
  }
 },
 "nbformat": 4,
 "nbformat_minor": 2
}
